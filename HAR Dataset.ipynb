{
 "cells": [
  {
   "cell_type": "markdown",
   "metadata": {},
   "source": [
    "# Task A"
   ]
  },
  {
   "cell_type": "markdown",
   "metadata": {},
   "source": [
    "a)The objective of the data collection process is Human Activity Recognition (HAR) which aims to identify the actions carried out by a person given a set of observations of him/herself and the surrounding environment. Recognition can be accomplished by exploiting the information retrieved from various sources such as environmental or body-worn sensors."
   ]
  },
  {
   "cell_type": "markdown",
   "metadata": {},
   "source": [
    "b)The human activity types does this dataset have are standing, sitting, laying down, walking, walking downstairs and upstairs.A group of 30 volunteers\n",
    "with ages ranging from 19 to 48 years were selected for this task"
   ]
  },
  {
   "cell_type": "markdown",
   "metadata": {},
   "source": [
    "c)A total of 561 features were extracted to describe each activity window. The dataset has been also randomly partitioned into\n",
    "two independent sets, where 70% of the data were selected for training and the remaining 30% for testing."
   ]
  },
  {
   "cell_type": "markdown",
   "metadata": {},
   "source": [
    "d)The machine learning model used in this paper for activity recognition is Support Vector Machine and They are trained as SVM hyperparameters are selected through a 10-fold Cross Validation procedure and Gaussian kernels.The maximum accuracy achieved is 96% for the test data composed of 2947 patterns."
   ]
  },
  {
   "cell_type": "markdown",
   "metadata": {},
   "source": [
    "# Task B"
   ]
  },
  {
   "cell_type": "markdown",
   "metadata": {},
   "source": [
    "In this project we will run different models and then we will compare which one is best model for human activity recognition. So, to start with that we will load the files of train and test"
   ]
  },
  {
   "cell_type": "code",
   "execution_count": 1,
   "metadata": {},
   "outputs": [
    {
     "name": "stderr",
     "output_type": "stream",
     "text": [
      "C:\\Users\\Sukhvinder\\Anaconda3\\lib\\site-packages\\sklearn\\cross_validation.py:41: DeprecationWarning: This module was deprecated in version 0.18 in favor of the model_selection module into which all the refactored classes and functions are moved. Also note that the interface of the new CV iterators are different from that of this module. This module will be removed in 0.20.\n",
      "  \"This module will be removed in 0.20.\", DeprecationWarning)\n",
      "C:\\Users\\Sukhvinder\\Anaconda3\\lib\\site-packages\\sklearn\\grid_search.py:42: DeprecationWarning: This module was deprecated in version 0.18 in favor of the model_selection module into which all the refactored classes and functions are moved. This module will be removed in 0.20.\n",
      "  DeprecationWarning)\n"
     ]
    }
   ],
   "source": [
    "from sklearn.grid_search import GridSearchCV \n",
    "from sklearn.metrics import classification_report\n",
    "from sklearn.metrics import confusion_matrix\n",
    "from sklearn.neighbors import KNeighborsClassifier\n",
    "import numpy as np\n",
    "from sklearn.cross_validation import train_test_split\n",
    "from sklearn.ensemble import RandomForestClassifier\n",
    "from sklearn.linear_model import SGDClassifier\n",
    "from sklearn.svm import SVC\n",
    "import matplotlib\n",
    "import matplotlib.pyplot as plt\n",
    "from matplotlib import cm\n",
    "from mpl_toolkits.mplot3d import Axes3D\n",
    "from pylab import *\n",
    "from sklearn import metrics\n",
    "from sklearn.cross_validation import cross_val_score\n",
    "\n",
    "\n",
    "\n",
    "Xtrain =  np.loadtxt(\"X_train.txt\")\n",
    "ytrain = np.loadtxt(\"y_train.txt\")\n",
    "Xtest =  np.loadtxt(\"X_test.txt\")\n",
    "ytest = np.loadtxt(\"y_test.txt\")\n",
    "\n"
   ]
  },
  {
   "cell_type": "markdown",
   "metadata": {},
   "source": [
    "Our First Model is the KNN model for this we will take values from 1 to 50. For choosing the best K we will use the 10-fold cross-validation.\n",
    "After that we will Choose the best value of K based on model F1-score."
   ]
  },
  {
   "cell_type": "code",
   "execution_count": 2,
   "metadata": {
    "scrolled": true
   },
   "outputs": [
    {
     "name": "stdout",
     "output_type": "stream",
     "text": [
      "F1 Scores : [mean: 0.89097, std: 0.03219, params: {'n_neighbors': 1}, mean: 0.87922, std: 0.03078, params: {'n_neighbors': 2}, mean: 0.90216, std: 0.03367, params: {'n_neighbors': 3}, mean: 0.90084, std: 0.02920, params: {'n_neighbors': 4}, mean: 0.90620, std: 0.03373, params: {'n_neighbors': 5}, mean: 0.90520, std: 0.03064, params: {'n_neighbors': 6}, mean: 0.90640, std: 0.03432, params: {'n_neighbors': 7}, mean: 0.90884, std: 0.03326, params: {'n_neighbors': 8}, mean: 0.90515, std: 0.03432, params: {'n_neighbors': 9}, mean: 0.90932, std: 0.03330, params: {'n_neighbors': 10}, mean: 0.90699, std: 0.03415, params: {'n_neighbors': 11}, mean: 0.90789, std: 0.03373, params: {'n_neighbors': 12}, mean: 0.90592, std: 0.03526, params: {'n_neighbors': 13}, mean: 0.90821, std: 0.03353, params: {'n_neighbors': 14}, mean: 0.90730, std: 0.03355, params: {'n_neighbors': 15}, mean: 0.90571, std: 0.03527, params: {'n_neighbors': 16}, mean: 0.90597, std: 0.03372, params: {'n_neighbors': 17}, mean: 0.90622, std: 0.03406, params: {'n_neighbors': 18}, mean: 0.90630, std: 0.03308, params: {'n_neighbors': 19}, mean: 0.90752, std: 0.03232, params: {'n_neighbors': 20}, mean: 0.90583, std: 0.03260, params: {'n_neighbors': 21}, mean: 0.90442, std: 0.03350, params: {'n_neighbors': 22}, mean: 0.90494, std: 0.03524, params: {'n_neighbors': 23}, mean: 0.90395, std: 0.03511, params: {'n_neighbors': 24}, mean: 0.90430, std: 0.03618, params: {'n_neighbors': 25}, mean: 0.90370, std: 0.03507, params: {'n_neighbors': 26}, mean: 0.90369, std: 0.03529, params: {'n_neighbors': 27}, mean: 0.90248, std: 0.03407, params: {'n_neighbors': 28}, mean: 0.90108, std: 0.03475, params: {'n_neighbors': 29}, mean: 0.90181, std: 0.03417, params: {'n_neighbors': 30}, mean: 0.90225, std: 0.03488, params: {'n_neighbors': 31}, mean: 0.90234, std: 0.03466, params: {'n_neighbors': 32}, mean: 0.90226, std: 0.03425, params: {'n_neighbors': 33}, mean: 0.90195, std: 0.03312, params: {'n_neighbors': 34}, mean: 0.90151, std: 0.03339, params: {'n_neighbors': 35}, mean: 0.90081, std: 0.03272, params: {'n_neighbors': 36}, mean: 0.90118, std: 0.03368, params: {'n_neighbors': 37}, mean: 0.90132, std: 0.03278, params: {'n_neighbors': 38}, mean: 0.90169, std: 0.03272, params: {'n_neighbors': 39}, mean: 0.90143, std: 0.03312, params: {'n_neighbors': 40}, mean: 0.89947, std: 0.03459, params: {'n_neighbors': 41}, mean: 0.90125, std: 0.03219, params: {'n_neighbors': 42}, mean: 0.89981, std: 0.03432, params: {'n_neighbors': 43}, mean: 0.89991, std: 0.03341, params: {'n_neighbors': 44}, mean: 0.90012, std: 0.03313, params: {'n_neighbors': 45}, mean: 0.90020, std: 0.03252, params: {'n_neighbors': 46}, mean: 0.89823, std: 0.03398, params: {'n_neighbors': 47}, mean: 0.89896, std: 0.03266, params: {'n_neighbors': 48}, mean: 0.89801, std: 0.03258, params: {'n_neighbors': 49}, mean: 0.89759, std: 0.03223, params: {'n_neighbors': 50}]\n",
      "Accuracy Scores: [mean: 0.89214, std: 0.03045, params: {'n_neighbors': 1}, mean: 0.88044, std: 0.02879, params: {'n_neighbors': 2}, mean: 0.90356, std: 0.03162, params: {'n_neighbors': 3}, mean: 0.90152, std: 0.02805, params: {'n_neighbors': 4}, mean: 0.90737, std: 0.03217, params: {'n_neighbors': 5}, mean: 0.90601, std: 0.02948, params: {'n_neighbors': 6}, mean: 0.90764, std: 0.03306, params: {'n_neighbors': 7}, mean: 0.90968, std: 0.03219, params: {'n_neighbors': 8}, mean: 0.90642, std: 0.03310, params: {'n_neighbors': 9}, mean: 0.91023, std: 0.03213, params: {'n_neighbors': 10}, mean: 0.90819, std: 0.03301, params: {'n_neighbors': 11}, mean: 0.90873, std: 0.03269, params: {'n_neighbors': 12}, mean: 0.90710, std: 0.03409, params: {'n_neighbors': 13}, mean: 0.90914, std: 0.03243, params: {'n_neighbors': 14}, mean: 0.90846, std: 0.03252, params: {'n_neighbors': 15}, mean: 0.90669, std: 0.03412, params: {'n_neighbors': 16}, mean: 0.90724, std: 0.03256, params: {'n_neighbors': 17}, mean: 0.90737, std: 0.03271, params: {'n_neighbors': 18}, mean: 0.90751, std: 0.03194, params: {'n_neighbors': 19}, mean: 0.90860, std: 0.03125, params: {'n_neighbors': 20}, mean: 0.90710, std: 0.03148, params: {'n_neighbors': 21}, mean: 0.90560, std: 0.03214, params: {'n_neighbors': 22}, mean: 0.90628, std: 0.03401, params: {'n_neighbors': 23}, mean: 0.90520, std: 0.03376, params: {'n_neighbors': 24}, mean: 0.90574, std: 0.03478, params: {'n_neighbors': 25}, mean: 0.90506, std: 0.03360, params: {'n_neighbors': 26}, mean: 0.90520, std: 0.03384, params: {'n_neighbors': 27}, mean: 0.90384, std: 0.03269, params: {'n_neighbors': 28}, mean: 0.90261, std: 0.03337, params: {'n_neighbors': 29}, mean: 0.90316, std: 0.03268, params: {'n_neighbors': 30}, mean: 0.90370, std: 0.03358, params: {'n_neighbors': 31}, mean: 0.90370, std: 0.03323, params: {'n_neighbors': 32}, mean: 0.90370, std: 0.03293, params: {'n_neighbors': 33}, mean: 0.90329, std: 0.03186, params: {'n_neighbors': 34}, mean: 0.90302, std: 0.03205, params: {'n_neighbors': 35}, mean: 0.90220, std: 0.03143, params: {'n_neighbors': 36}, mean: 0.90275, std: 0.03236, params: {'n_neighbors': 37}, mean: 0.90275, std: 0.03143, params: {'n_neighbors': 38}, mean: 0.90329, std: 0.03129, params: {'n_neighbors': 39}, mean: 0.90288, std: 0.03175, params: {'n_neighbors': 40}, mean: 0.90112, std: 0.03309, params: {'n_neighbors': 41}, mean: 0.90275, std: 0.03088, params: {'n_neighbors': 42}, mean: 0.90152, std: 0.03285, params: {'n_neighbors': 43}, mean: 0.90152, std: 0.03192, params: {'n_neighbors': 44}, mean: 0.90180, std: 0.03163, params: {'n_neighbors': 45}, mean: 0.90180, std: 0.03115, params: {'n_neighbors': 46}, mean: 0.90003, std: 0.03251, params: {'n_neighbors': 47}, mean: 0.90057, std: 0.03138, params: {'n_neighbors': 48}, mean: 0.89976, std: 0.03129, params: {'n_neighbors': 49}, mean: 0.89921, std: 0.03088, params: {'n_neighbors': 50}]\n"
     ]
    }
   ],
   "source": [
    "knnvalues = list(range(1, 51))\n",
    "param_grid = dict(n_neighbors=knnvalues)\n",
    "knn_model = KNeighborsClassifier(n_neighbors=knnvalues)\n",
    "grid1 = GridSearchCV(knn_model, param_grid, cv=10, scoring='f1_weighted',n_jobs=-1)\n",
    "grid2 = GridSearchCV(knn_model, param_grid, cv=10, scoring='accuracy',n_jobs=-1)\n",
    "grid1.fit(Xtrain, ytrain) \n",
    "grid2.fit(Xtrain, ytrain)\n",
    "\n",
    "print(\"F1 Scores :\",grid1.grid_scores_)\n",
    "print(\"Accuracy Scores:\",grid2.grid_scores_)"
   ]
  },
  {
   "cell_type": "markdown",
   "metadata": {},
   "source": [
    "Now after getting the f1 scores we have to choose the best value of K on model F1-score.For that we will take the mean score of the grid and after that we will plot the graph"
   ]
  },
  {
   "cell_type": "code",
   "execution_count": 3,
   "metadata": {},
   "outputs": [
    {
     "name": "stdout",
     "output_type": "stream",
     "text": [
      "Mean Score of the F1-Score: [0.8909746388323774, 0.8792213371224419, 0.9021558954312175, 0.9008394418778818, 0.9061995831896125, 0.9051956863751959, 0.9063992628560865, 0.9088422837157544, 0.9051502298357804, 0.909316280204744, 0.9069869525234425, 0.9078860906190369, 0.905920027880161, 0.908205627037723, 0.9072962680908698, 0.9057141619895316, 0.9059696229675531, 0.9062184505604068, 0.9062951742264447, 0.9075215542089543, 0.9058311041920581, 0.9044195939167018, 0.904942635091798, 0.9039492096243847, 0.9042975462857602, 0.9037009463865175, 0.9036862810952656, 0.9024835027037087, 0.901082676787693, 0.9018051533201611, 0.9022492186157282, 0.9023445804724717, 0.902262602495391, 0.9019492643060046, 0.9015074267911745, 0.9008124657125026, 0.9011813392521694, 0.9013222311112953, 0.9016918436406254, 0.9014250941844199, 0.8994657361881038, 0.9012546195847972, 0.8998125063500676, 0.899909941824877, 0.9001167287218704, 0.9001995245622839, 0.8982311470513425, 0.898962035355253, 0.8980098778710666, 0.8975890290289359]\n"
     ]
    }
   ],
   "source": [
    "Meanscore = [result.mean_validation_score for result in grid1.grid_scores_]\n",
    "print(\"Mean Score of the F1-Score:\",Meanscore)\n"
   ]
  },
  {
   "cell_type": "markdown",
   "metadata": {},
   "source": [
    "Plotting a graph for cross validation with respect to K"
   ]
  },
  {
   "cell_type": "code",
   "execution_count": 5,
   "metadata": {},
   "outputs": [
    {
     "name": "stdout",
     "output_type": "stream",
     "text": [
      "0.909316280204744\n",
      "Value of K based On F1 score is  {'n_neighbors': 10}\n",
      "The confusion mat:\n",
      "[[486   0  10   0   0   0]\n",
      " [ 36 431   4   0   0   0]\n",
      " [ 51  41 328   0   0   0]\n",
      " [  0   4   0 409  78   0]\n",
      " [  0   0   0  47 485   0]\n",
      " [  0   0   0   2   2 533]]\n",
      "KNN Testing Accuracy is: 0.9066847641669494\n",
      "KNN F1 score is: 0.9059781880301676\n"
     ]
    },
    {
     "data": {
      "image/png": "[encoded data removed]",
      "text/plain": [
       "<Figure size 432x288 with 1 Axes>"
      ]
     },
     "metadata": {},
     "output_type": "display_data"
    }
   ],
   "source": [
    "plt.plot(knnvalues, Meanscore)\n",
    "plt.xlabel('Value of K')\n",
    "plt.ylabel('Cross Validation Accuracy')\n",
    "\n",
    "print(grid1.best_score_) #f1 score\n",
    "print(\"Value of K based On F1 score is  {}\".format(grid1.best_params_))\n",
    "#best params based on k\n",
    "knnmodel = KNeighborsClassifier(n_neighbors = 10)#best k value\n",
    "\n",
    "knnmodel.fit(Xtrain, ytrain)\n",
    "knnpredict = knnmodel.predict(Xtest)\n",
    "\n",
    "from sklearn.metrics import confusion_matrix\n",
    "confusion_matrix = confusion_matrix(ytest,knnpredict)\n",
    "\n",
    "print(\"The confusion mat:\")\n",
    "\n",
    "print(confusion_matrix)\n",
    "\n",
    "knn_accuracy = metrics.accuracy_score(ytest,knnpredict)\n",
    "print(\"KNN Testing Accuracy is: {}\".format(knn_accuracy))\n",
    "\n",
    "knn_accuracy_metrics = metrics.f1_score(ytest,knnpredict,average='weighted')\n",
    "print(\"KNN F1 score is: {}\".format(knn_accuracy_metrics))\n"
   ]
  },
  {
   "cell_type": "markdown",
   "metadata": {},
   "source": [
    "Confusion matrix, multi-class averaged F1-score and accuracy"
   ]
  },
  {
   "cell_type": "code",
   "execution_count": 6,
   "metadata": {},
   "outputs": [
    {
     "name": "stdout",
     "output_type": "stream",
     "text": [
      "Confusion matrix:\n",
      " [[486   0  10   0   0   0]\n",
      " [ 36 431   4   0   0   0]\n",
      " [ 51  41 328   0   0   0]\n",
      " [  0   4   0 409  78   0]\n",
      " [  0   0   0  47 485   0]\n",
      " [  0   0   0   2   2 533]]\n",
      "KNN Testing Accuracy is: 0.9066847641669494\n",
      "KNN F1 score is: 0.9059781880301676\n"
     ]
    }
   ],
   "source": [
    "from sklearn.metrics import confusion_matrix\n",
    "ConfusionMatrix = confusion_matrix(ytest,knnpredict)\n",
    "\n",
    "print(\"Confusion matrix:\\n\",ConfusionMatrix)\n",
    "\n",
    "knn_accuracy = metrics.accuracy_score(ytest,knnpredict)\n",
    "print(\"KNN Testing Accuracy is: {}\".format(knn_accuracy))\n",
    "\n",
    "knn_accuracy_metrics = metrics.f1_score(ytest,knnpredict,average='weighted')\n",
    "print(\"KNN F1 score is: {}\".format(knn_accuracy_metrics))\n"
   ]
  },
  {
   "cell_type": "markdown",
   "metadata": {},
   "source": [
    "# Task C"
   ]
  },
  {
   "cell_type": "markdown",
   "metadata": {},
   "source": [
    "In this task the values for alpha values and l1 was given. We use the elastic net when we have to perform regularized linear and logistic regression using both L1 and L2 together.\n",
    "The SGDClassifier is used in this for the classification model and we have used the cross validation =10.\n"
   ]
  },
  {
   "cell_type": "code",
   "execution_count": 7,
   "metadata": {},
   "outputs": [
    {
     "name": "stderr",
     "output_type": "stream",
     "text": [
      "C:\\Users\\Sukhvinder\\Anaconda3\\lib\\site-packages\\sklearn\\linear_model\\stochastic_gradient.py:128: FutureWarning: max_iter and tol parameters have been added in <class 'sklearn.linear_model.stochastic_gradient.SGDClassifier'> in 0.19. If both are left unset, they default to max_iter=5 and tol=None. If tol is not None, max_iter defaults to max_iter=1000. From 0.21, default max_iter will be 1000, and default tol will be 1e-3.\n",
      "  \"and default tol will be 1e-3.\" % type(self), FutureWarning)\n"
     ]
    },
    {
     "name": "stdout",
     "output_type": "stream",
     "text": [
      "The F1 Scores are : [mean: 0.91450, std: 0.07176, params: {'alpha': 0.0001, 'l1_ratio': 0}, mean: 0.91950, std: 0.06311, params: {'alpha': 0.0001, 'l1_ratio': 0.15}, mean: 0.93043, std: 0.05718, params: {'alpha': 0.0001, 'l1_ratio': 0.5}, mean: 0.92246, std: 0.04613, params: {'alpha': 0.0001, 'l1_ratio': 0.7}, mean: 0.92903, std: 0.05008, params: {'alpha': 0.0001, 'l1_ratio': 1}, mean: 0.91632, std: 0.07084, params: {'alpha': 0.0003, 'l1_ratio': 0}, mean: 0.92885, std: 0.04614, params: {'alpha': 0.0003, 'l1_ratio': 0.15}, mean: 0.93514, std: 0.05114, params: {'alpha': 0.0003, 'l1_ratio': 0.5}, mean: 0.93113, std: 0.05103, params: {'alpha': 0.0003, 'l1_ratio': 0.7}, mean: 0.92257, std: 0.05394, params: {'alpha': 0.0003, 'l1_ratio': 1}, mean: 0.92237, std: 0.04569, params: {'alpha': 0.001, 'l1_ratio': 0}, mean: 0.93380, std: 0.05705, params: {'alpha': 0.001, 'l1_ratio': 0.15}, mean: 0.93404, std: 0.05037, params: {'alpha': 0.001, 'l1_ratio': 0.5}, mean: 0.93065, std: 0.05767, params: {'alpha': 0.001, 'l1_ratio': 0.7}, mean: 0.92153, std: 0.05205, params: {'alpha': 0.001, 'l1_ratio': 1}, mean: 0.92754, std: 0.04962, params: {'alpha': 0.003, 'l1_ratio': 0}, mean: 0.92863, std: 0.05444, params: {'alpha': 0.003, 'l1_ratio': 0.15}, mean: 0.93354, std: 0.04798, params: {'alpha': 0.003, 'l1_ratio': 0.5}, mean: 0.92548, std: 0.04990, params: {'alpha': 0.003, 'l1_ratio': 0.7}, mean: 0.91168, std: 0.05209, params: {'alpha': 0.003, 'l1_ratio': 1}, mean: 0.91068, std: 0.04758, params: {'alpha': 0.01, 'l1_ratio': 0}, mean: 0.91307, std: 0.04748, params: {'alpha': 0.01, 'l1_ratio': 0.15}, mean: 0.89719, std: 0.05264, params: {'alpha': 0.01, 'l1_ratio': 0.5}, mean: 0.89365, std: 0.05332, params: {'alpha': 0.01, 'l1_ratio': 0.7}, mean: 0.89803, std: 0.05000, params: {'alpha': 0.01, 'l1_ratio': 1}, mean: 0.89744, std: 0.04757, params: {'alpha': 0.03, 'l1_ratio': 0}, mean: 0.88837, std: 0.04477, params: {'alpha': 0.03, 'l1_ratio': 0.15}, mean: 0.85047, std: 0.04860, params: {'alpha': 0.03, 'l1_ratio': 0.5}, mean: 0.82695, std: 0.04934, params: {'alpha': 0.03, 'l1_ratio': 0.7}, mean: 0.77915, std: 0.05221, params: {'alpha': 0.03, 'l1_ratio': 1}]\n",
      "0.9351392155848256\n",
      "Best value of alpha and l1_ratio based on F1 score is {'alpha': 0.0003, 'l1_ratio': 0.5}\n",
      "[0.8921381936887922, 0.8804406964091404, 0.903563656147987, 0.9015233949945594, 0.9073721436343852, 0.9060119695321001, 0.9076441784548422, 0.9096844396082698, 0.9064200217627857, 0.9102285092491839, 0.9081882480957563, 0.9087323177366703, 0.9071001088139282, 0.9091403699673558, 0.9084602829162133, 0.9066920565832427, 0.9072361262241567, 0.9073721436343852, 0.9075081610446137, 0.9085963003264418, 0.9071001088139282, 0.9056039173014145, 0.9062840043525572, 0.905195865070729, 0.905739934711643, 0.9050598476605005, 0.905195865070729, 0.903835690968444, 0.9026115342763874, 0.9031556039173014, 0.9036996735582155, 0.9036996735582155, 0.9036996735582155, 0.9032916213275299, 0.9030195865070729, 0.9022034820457019, 0.9027475516866159, 0.9027475516866159, 0.9032916213275299, 0.9028835690968444, 0.9011153427638737, 0.9027475516866159, 0.9015233949945594, 0.9015233949945594, 0.9017954298150164, 0.9017954298150164, 0.9000272034820457, 0.9005712731229597, 0.8997551686615887, 0.8992110990206746]\n"
     ]
    }
   ],
   "source": [
    "from sklearn.linear_model import LogisticRegression\n",
    "from sklearn.metrics import accuracy_score\n",
    "\n",
    "alpha=[1e-4,3e-4,1e-3,3e-3, 1e-2,3e-2]\n",
    "l1 = [0,0.15,0.5,0.7,1]\n",
    "                                                                                                                            \n",
    "paramgrid1 = dict(alpha=alpha,l1_ratio=l1)\n",
    "enet=SGDClassifier(loss='log',penalty='elasticnet')\n",
    "grid3 = GridSearchCV(enet,paramgrid1, n_jobs=-1,cv=10,scoring='f1_weighted')\n",
    "\n",
    "grid3.fit(Xtrain, ytrain)\n",
    "print(\"The F1 Scores are :\",grid3.grid_scores_)\n",
    "\n",
    "print(grid3.best_score_)\n",
    "\n",
    "print(\"Best value of alpha and l1_ratio based on F1 score is {}\".format(grid3.best_params_))\n",
    "\n",
    "MeanSquare2 = [result.mean_validation_score for result in grid2.grid_scores_]\n",
    "print(MeanSquare2)"
   ]
  },
  {
   "cell_type": "markdown",
   "metadata": {},
   "source": [
    "Graph for surface plot of F1-Score with respect to alpha and l1 ratio"
   ]
  },
  {
   "cell_type": "code",
   "execution_count": 8,
   "metadata": {},
   "outputs": [
    {
     "name": "stdout",
     "output_type": "stream",
     "text": [
      "[[0.   0.15 0.5  0.7  1.  ]\n",
      " [0.   0.15 0.5  0.7  1.  ]\n",
      " [0.   0.15 0.5  0.7  1.  ]\n",
      " [0.   0.15 0.5  0.7  1.  ]\n",
      " [0.   0.15 0.5  0.7  1.  ]\n",
      " [0.   0.15 0.5  0.7  1.  ]]\n",
      "[[0.0001 0.0001 0.0001 0.0001 0.0001]\n",
      " [0.0003 0.0003 0.0003 0.0003 0.0003]\n",
      " [0.001  0.001  0.001  0.001  0.001 ]\n",
      " [0.003  0.003  0.003  0.003  0.003 ]\n",
      " [0.01   0.01   0.01   0.01   0.01  ]\n",
      " [0.03   0.03   0.03   0.03   0.03  ]]\n",
      "[[0.89213819 0.8804407  0.90356366 0.90152339 0.90737214]\n",
      " [0.90601197 0.90764418 0.90968444 0.90642002 0.91022851]\n",
      " [0.90818825 0.90873232 0.90710011 0.90914037 0.90846028]\n",
      " [0.90669206 0.90723613 0.90737214 0.90750816 0.9085963 ]\n",
      " [0.90710011 0.90560392 0.906284   0.90519587 0.90573993]\n",
      " [0.90505985 0.90519587 0.90383569 0.90261153 0.9031556 ]]\n"
     ]
    },
    {
     "data": {
      "image/png": "[encoded data removed]",
      "text/plain": [
       "<Figure size 432x288 with 1 Axes>"
      ]
     },
     "metadata": {},
     "output_type": "display_data"
    }
   ],
   "source": [
    "loop =0\n",
    "e= alpha \n",
    "f= l1 \n",
    "mean= np.zeros([6,5])\n",
    "for i in range(0,6):\n",
    "    for j in range(0,5):\n",
    "        mean[i,j]=MeanSquare2[loop]\n",
    "        loop=loop+1\n",
    "\n",
    "X,Y  = np.meshgrid(f, e)\n",
    "C = mean\n",
    "print(X)\n",
    "print(Y)\n",
    "print(mean)\n",
    "fig = plt.figure()\n",
    "ax = fig.gca(projection='3d')\n",
    "surfacegraph = ax.plot_surface(X, Y, C, rstride=3, cstride=3, antialiased=True)\n",
    "ax.set_xlabel('***L1-Ratio***')\n",
    "ax.set_ylabel('***Alpha Values***')\n",
    "ax.set_zlabel('***F1-Score***')\n",
    "plt.show()"
   ]
  },
  {
   "cell_type": "markdown",
   "metadata": {},
   "source": [
    "After seeing the graph we will use the best alpha value and the l1_ratio value so that we can predict the confusion matrix,accuracy and accuracy metrics."
   ]
  },
  {
   "cell_type": "code",
   "execution_count": 9,
   "metadata": {},
   "outputs": [
    {
     "name": "stderr",
     "output_type": "stream",
     "text": [
      "C:\\Users\\Sukhvinder\\Anaconda3\\lib\\site-packages\\sklearn\\linear_model\\stochastic_gradient.py:128: FutureWarning: max_iter and tol parameters have been added in <class 'sklearn.linear_model.stochastic_gradient.SGDClassifier'> in 0.19. If both are left unset, they default to max_iter=5 and tol=None. If tol is not None, max_iter defaults to max_iter=1000. From 0.21, default max_iter will be 1000, and default tol will be 1e-3.\n",
      "  \"and default tol will be 1e-3.\" % type(self), FutureWarning)\n"
     ]
    }
   ],
   "source": [
    "enet_model=SGDClassifier(penalty='elasticnet',alpha=0.001,l1_ratio=0.7)\n",
    "enet_model.fit(Xtrain, ytrain)\n",
    "enet_predict = enet_model.predict(Xtest)"
   ]
  },
  {
   "cell_type": "markdown",
   "metadata": {},
   "source": [
    "Confusion Matrix"
   ]
  },
  {
   "cell_type": "code",
   "execution_count": 10,
   "metadata": {},
   "outputs": [
    {
     "name": "stdout",
     "output_type": "stream",
     "text": [
      "     CONFUSION MATRIX\n",
      " [[491   2   3   0   0   0]\n",
      " [ 17 430  21   1   2   0]\n",
      " [  3  12 401   0   4   0]\n",
      " [  0   3   3 409  76   0]\n",
      " [  2   0   0  15 515   0]\n",
      " [  0   0   0   0   0 537]]\n"
     ]
    }
   ],
   "source": [
    "ConfusionMatrix1 = confusion_matrix(ytest,enet_predict)\n",
    "print(\"     CONFUSION MATRIX\\n\",ConfusionMatrix1)"
   ]
  },
  {
   "cell_type": "markdown",
   "metadata": {},
   "source": [
    "Accuracy Metrics"
   ]
  },
  {
   "cell_type": "code",
   "execution_count": 11,
   "metadata": {},
   "outputs": [
    {
     "name": "stdout",
     "output_type": "stream",
     "text": [
      "Elastic Net F1 score is: 0.9440127463775343\n"
     ]
    }
   ],
   "source": [
    "enet_accuracymetrics = metrics.f1_score(ytest,enet_predict,average='weighted')\n",
    "print(\"Elastic Net F1 score is: {}\".format(enet_accuracymetrics))"
   ]
  },
  {
   "cell_type": "markdown",
   "metadata": {},
   "source": [
    "Accuracy"
   ]
  },
  {
   "cell_type": "code",
   "execution_count": 12,
   "metadata": {},
   "outputs": [
    {
     "name": "stdout",
     "output_type": "stream",
     "text": [
      "Elastic Net Testing Accuracy is: 0.9443501866304717\n"
     ]
    }
   ],
   "source": [
    "enet_accuracy = metrics.accuracy_score(ytest,enet_predict)\n",
    "print(\"Elastic Net Testing Accuracy is: {}\".format(enet_accuracy))"
   ]
  },
  {
   "cell_type": "markdown",
   "metadata": {},
   "source": [
    "# Task D"
   ]
  },
  {
   "cell_type": "markdown",
   "metadata": {},
   "source": [
    "In this we have given the values for gamma and cost parameter for given. So we have to find best values for best gamma and C and after that we have to plot the graph after that we have to find the confusion matrix, accuracy and metrics averaged."
   ]
  },
  {
   "cell_type": "code",
   "execution_count": 13,
   "metadata": {},
   "outputs": [
    {
     "name": "stdout",
     "output_type": "stream",
     "text": [
      "values: {'gamma': [0.001, 0.0001], 'C': [1, 10, 100, 1000]}\n"
     ]
    }
   ],
   "source": [
    "gamma=[1e-3, 1e-4]\n",
    "C=[1,10,100,1000]\n",
    "\n",
    "paramgrid3 = dict(gamma=gamma, C=C)\n",
    "print(\"values:\",paramgrid3)"
   ]
  },
  {
   "cell_type": "code",
   "execution_count": 14,
   "metadata": {},
   "outputs": [
    {
     "data": {
      "text/plain": [
       "GridSearchCV(cv=10, error_score='raise',\n",
       "       estimator=SVC(C=1.0, cache_size=200, class_weight=None, coef0=0.0,\n",
       "  decision_function_shape='ovr', degree=3, gamma='auto', kernel='rbf',\n",
       "  max_iter=-1, probability=False, random_state=None, shrinking=True,\n",
       "  tol=0.001, verbose=False),\n",
       "       fit_params={}, iid=True, n_jobs=-1,\n",
       "       param_grid={'gamma': [0.001, 0.0001], 'C': [1, 10, 100, 1000]},\n",
       "       pre_dispatch='2*n_jobs', refit=True, scoring='f1_weighted',\n",
       "       verbose=0)"
      ]
     },
     "execution_count": 14,
     "metadata": {},
     "output_type": "execute_result"
    }
   ],
   "source": [
    "SVM=SVC()\n",
    "grid4 = GridSearchCV(SVM,paramgrid3, n_jobs=-1,cv=10,scoring='f1_weighted')\n",
    "\n",
    "grid4.fit(Xtrain, ytrain)"
   ]
  },
  {
   "cell_type": "code",
   "execution_count": 15,
   "metadata": {},
   "outputs": [
    {
     "data": {
      "text/plain": [
       "GridSearchCV(cv=10, error_score='raise',\n",
       "       estimator=SVC(C=1.0, cache_size=200, class_weight=None, coef0=0.0,\n",
       "  decision_function_shape=None, degree=3, gamma='auto', kernel='rbf',\n",
       "  max_iter=-1, probability=False, random_state=None, shrinking=True,\n",
       "  tol=0.001, verbose=False),\n",
       "       fit_params={}, iid=True, n_jobs=-1,\n",
       "       param_grid={'C': [1, 10, 100, 1000], 'gamma': [0.001, 0.0001]},\n",
       "       pre_dispatch='2*n_jobs', refit=True, scoring='f1_weighted',\n",
       "       verbose=0)"
      ]
     },
     "execution_count": 15,
     "metadata": {},
     "output_type": "execute_result"
    }
   ],
   "source": [
    "# Grid Search Function\n",
    "GridSearchCV(cv=10, error_score='raise',\n",
    "       estimator=SVC(C=1.0, cache_size=200, class_weight=None, coef0=0.0,\n",
    "  decision_function_shape=None, degree=3, gamma='auto', kernel='rbf',\n",
    "  max_iter=-1, probability=False, random_state=None, shrinking=True,\n",
    "  tol=0.001, verbose=False),\n",
    "       fit_params={}, iid=True, n_jobs=-1,\n",
    "       param_grid={'C': [1, 10, 100, 1000], 'gamma': [0.001, 0.0001]},\n",
    "       pre_dispatch='2*n_jobs', refit=True, scoring='f1_weighted',\n",
    "       verbose=0)"
   ]
  },
  {
   "cell_type": "markdown",
   "metadata": {},
   "source": [
    "F1 score for support vector machine model"
   ]
  },
  {
   "cell_type": "code",
   "execution_count": 16,
   "metadata": {},
   "outputs": [
    {
     "name": "stdout",
     "output_type": "stream",
     "text": [
      "F1 Scores for SVM:\n",
      " [mean: 0.90623, std: 0.04264, params: {'C': 1, 'gamma': 0.001}, mean: 0.79000, std: 0.04077, params: {'C': 1, 'gamma': 0.0001}, mean: 0.94230, std: 0.04226, params: {'C': 10, 'gamma': 0.001}, mean: 0.90649, std: 0.04295, params: {'C': 10, 'gamma': 0.0001}, mean: 0.95006, std: 0.04236, params: {'C': 100, 'gamma': 0.001}, mean: 0.94158, std: 0.04443, params: {'C': 100, 'gamma': 0.0001}, mean: 0.95165, std: 0.04209, params: {'C': 1000, 'gamma': 0.001}, mean: 0.94720, std: 0.04572, params: {'C': 1000, 'gamma': 0.0001}]\n",
      "Score:\n",
      " [0.90622808605955, 0.7900034414841904, 0.9422994292996064, 0.9064889993999662, 0.9500604188562756, 0.9415806790564664, 0.9516493213913358, 0.9471973908306649]\n"
     ]
    }
   ],
   "source": [
    "print(\"F1 Scores for SVM:\\n\",grid4.grid_scores_)\n",
    "\n",
    "grid_MSE = [result.mean_validation_score for result in grid4.grid_scores_]\n",
    "print(\"Score:\\n\",grid_MSE)\n",
    "\n"
   ]
  },
  {
   "cell_type": "markdown",
   "metadata": {},
   "source": [
    "For finding the Best Score"
   ]
  },
  {
   "cell_type": "code",
   "execution_count": 17,
   "metadata": {},
   "outputs": [
    {
     "name": "stdout",
     "output_type": "stream",
     "text": [
      "Best Score is:\n",
      " 0.9516493213913358\n"
     ]
    }
   ],
   "source": [
    "print(\"Best Score is:\\n\",grid4.best_score_)"
   ]
  },
  {
   "cell_type": "code",
   "execution_count": 18,
   "metadata": {},
   "outputs": [
    {
     "name": "stdout",
     "output_type": "stream",
     "text": [
      "SGDClassifier(alpha=0.0003, average=False, class_weight=None, epsilon=0.1,\n",
      "       eta0=0.0, fit_intercept=True, l1_ratio=0.5, learning_rate='optimal',\n",
      "       loss='log', max_iter=None, n_iter=None, n_jobs=1,\n",
      "       penalty='elasticnet', power_t=0.5, random_state=None, shuffle=True,\n",
      "       tol=None, verbose=0, warm_start=False)\n"
     ]
    }
   ],
   "source": [
    "print(grid3.best_estimator_)"
   ]
  },
  {
   "cell_type": "markdown",
   "metadata": {},
   "source": [
    "Plotting the surface graph for C,gamma "
   ]
  },
  {
   "cell_type": "code",
   "execution_count": 19,
   "metadata": {},
   "outputs": [
    {
     "name": "stdout",
     "output_type": "stream",
     "text": [
      "[[0.001  0.0001]\n",
      " [0.001  0.0001]\n",
      " [0.001  0.0001]\n",
      " [0.001  0.0001]]\n",
      "[[   1    1]\n",
      " [  10   10]\n",
      " [ 100  100]\n",
      " [1000 1000]]\n",
      "[[0.90622809 0.79000344]\n",
      " [0.94229943 0.906489  ]\n",
      " [0.95006042 0.94158068]\n",
      " [0.95164932 0.94719739]]\n"
     ]
    },
    {
     "data": {
      "image/png": "[encoded data removed]",
      "text/plain": [
       "<Figure size 432x288 with 1 Axes>"
      ]
     },
     "metadata": {},
     "output_type": "display_data"
    }
   ],
   "source": [
    "loop =0\n",
    "a = gamma \n",
    "b = C\n",
    "A, B = np.meshgrid(a, b) \n",
    "t = np.zeros([4,2])\n",
    "for i in range(0,4):\n",
    "    for j in range(0,2):\n",
    "        t[i,j]=grid_MSE[loop]\n",
    "        loop=loop+1\n",
    "C=t\n",
    "print(A)\n",
    "print(B)\n",
    "print(C)\n",
    "fig1 = plt.figure()\n",
    "ax = fig1.gca(projection='3d')\n",
    "\n",
    "surf = ax.plot_surface(A, B, C, rstride=3, cstride=3, antialiased=True)\n",
    "\n",
    "\n",
    "ax.set_ylabel('***Gamma Values***')\n",
    "ax.set_xlabel('***C***')\n",
    "ax.set_zlabel('***F1-Score***')\n",
    "plt.show()"
   ]
  },
  {
   "cell_type": "markdown",
   "metadata": {},
   "source": [
    "Confusion Matrix"
   ]
  },
  {
   "cell_type": "code",
   "execution_count": 20,
   "metadata": {},
   "outputs": [
    {
     "name": "stdout",
     "output_type": "stream",
     "text": [
      "CONFUSION MATRIX:\n",
      " [[493   0   3   0   0   0]\n",
      " [ 17 454   0   0   0   0]\n",
      " [  4  10 406   0   0   0]\n",
      " [  0   2   0 436  53   0]\n",
      " [  0   0   0  12 520   0]\n",
      " [  0   0   0   0   0 537]]\n"
     ]
    }
   ],
   "source": [
    "SVM_Model=SVC(gamma=0.001,C=1000)\n",
    "\n",
    "SVM_Model.fit(Xtrain, ytrain)\n",
    "SVM_Predict = SVM_Model.predict(Xtest)\n",
    "\n",
    "ConfusionMatrix2= confusion_matrix(ytest,SVM_Predict)\n",
    "\n",
    "print(\"CONFUSION MATRIX:\\n\",ConfusionMatrix2)\n"
   ]
  },
  {
   "cell_type": "code",
   "execution_count": 21,
   "metadata": {},
   "outputs": [
    {
     "name": "stdout",
     "output_type": "stream",
     "text": [
      "SVM Accuracy is: 0.9657278588394977\n",
      "SVM F1 score is: 0.9656245347276229\n"
     ]
    }
   ],
   "source": [
    "SVM_Accuracy = metrics.accuracy_score(ytest,SVM_Predict)\n",
    "print(\"SVM Accuracy is: {}\".format(SVM_Accuracy))\n",
    "\n",
    "SVM_Accuracy_Metrics = metrics.f1_score(ytest,SVM_Predict,average='weighted')\n",
    "print(\"SVM F1 score is: {}\".format(SVM_Accuracy_Metrics))\n"
   ]
  },
  {
   "cell_type": "markdown",
   "metadata": {},
   "source": [
    "# Task E"
   ]
  },
  {
   "cell_type": "markdown",
   "metadata": {},
   "source": [
    "In this depth of range is givenno of trees range is given and after that we will find the best values of tree-depth and number of trees using cross validation =10 based on the model on f1 score,after that we will plot the surface graph for the f2 scores,tree depth and no of trees. Report the confusion matrix.accuracy and the multiclass averaged score."
   ]
  },
  {
   "cell_type": "code",
   "execution_count": 22,
   "metadata": {},
   "outputs": [],
   "source": [
    "#Random Forest\n",
    "\n",
    "depth_range = [300,500,600]\n",
    "tree_range =  [200, 500,700]"
   ]
  },
  {
   "cell_type": "code",
   "execution_count": 23,
   "metadata": {},
   "outputs": [
    {
     "name": "stdout",
     "output_type": "stream",
     "text": [
      "{'n_estimators': [200, 500, 700], 'max_depth': [300, 500, 600]}\n"
     ]
    }
   ],
   "source": [
    "param_grid4 = dict(n_estimators=tree_range,max_depth=depth_range)\n",
    "print(param_grid4)"
   ]
  },
  {
   "cell_type": "code",
   "execution_count": 24,
   "metadata": {},
   "outputs": [
    {
     "data": {
      "text/plain": [
       "GridSearchCV(cv=10, error_score='raise',\n",
       "       estimator=RandomForestClassifier(bootstrap=True, class_weight=None, criterion='gini',\n",
       "            max_depth=None, max_features='sqrt', max_leaf_nodes=None,\n",
       "            min_impurity_decrease=0.0, min_impurity_split=None,\n",
       "            min_samples_leaf=1, min_samples_split=2,\n",
       "            min_weight_fraction_leaf=0.0, n_estimators=10, n_jobs=-1,\n",
       "            oob_score=True, random_state=None, verbose=0, warm_start=False),\n",
       "       fit_params={}, iid=True, n_jobs=-1,\n",
       "       param_grid={'n_estimators': [200, 500, 700], 'max_depth': [300, 500, 600]},\n",
       "       pre_dispatch='2*n_jobs', refit=True, scoring='f1_weighted',\n",
       "       verbose=0)"
      ]
     },
     "execution_count": 24,
     "metadata": {},
     "output_type": "execute_result"
    }
   ],
   "source": [
    "rfc = RandomForestClassifier(n_jobs=-1,max_features= 'sqrt',oob_score = True)\n",
    "grid4 = GridSearchCV(rfc,param_grid4, n_jobs=-1,cv=10,scoring='f1_weighted')\n",
    "grid4.fit(Xtrain, ytrain)"
   ]
  },
  {
   "cell_type": "markdown",
   "metadata": {},
   "source": [
    "F1 scores for Random Forest"
   ]
  },
  {
   "cell_type": "code",
   "execution_count": 25,
   "metadata": {},
   "outputs": [
    {
     "name": "stdout",
     "output_type": "stream",
     "text": [
      "F1 Scores for random forest are :\n",
      "[0.9307407188660045, 0.9330450444452956, 0.9309220331675957, 0.9295464017539202, 0.9305466846826528, 0.9309102271387747, 0.9296040289361539, 0.931480968767464, 0.9291402631486901]\n",
      "0.9330450444452956\n"
     ]
    }
   ],
   "source": [
    "#F1 Score\n",
    "print(\"F1 Scores for random forest are :\")\n",
    "grid4.grid_scores_\n",
    "grid_mean_scores3 = [result.mean_validation_score for result in grid4.grid_scores_]\n",
    "print(grid_mean_scores3)\n",
    "print(grid4.best_score_)"
   ]
  },
  {
   "cell_type": "code",
   "execution_count": 26,
   "metadata": {},
   "outputs": [
    {
     "name": "stdout",
     "output_type": "stream",
     "text": [
      "Tree Depth and No of trees based On F1 score is  {'max_depth': 300, 'n_estimators': 500}\n"
     ]
    }
   ],
   "source": [
    "print(\"Tree Depth and No of trees based On F1 score is  {}\".format(grid4.best_params_))"
   ]
  },
  {
   "cell_type": "code",
   "execution_count": 27,
   "metadata": {},
   "outputs": [
    {
     "name": "stdout",
     "output_type": "stream",
     "text": [
      "RandomForestClassifier(bootstrap=True, class_weight=None, criterion='gini',\n",
      "            max_depth=300, max_features='sqrt', max_leaf_nodes=None,\n",
      "            min_impurity_decrease=0.0, min_impurity_split=None,\n",
      "            min_samples_leaf=1, min_samples_split=2,\n",
      "            min_weight_fraction_leaf=0.0, n_estimators=500, n_jobs=-1,\n",
      "            oob_score=True, random_state=None, verbose=0, warm_start=False)\n"
     ]
    }
   ],
   "source": [
    "#For finding best estimator\n",
    "print(grid4.best_estimator_)"
   ]
  },
  {
   "cell_type": "markdown",
   "metadata": {},
   "source": [
    "Surface Graph for Depth of trees,f1 scores and Number of trees"
   ]
  },
  {
   "cell_type": "code",
   "execution_count": 28,
   "metadata": {},
   "outputs": [
    {
     "name": "stdout",
     "output_type": "stream",
     "text": [
      "[300, 500, 600]\n",
      "[200, 500, 700]\n",
      "[[300 500 600]\n",
      " [300 500 600]\n",
      " [300 500 600]]\n",
      "[[200 200 200]\n",
      " [500 500 500]\n",
      " [700 700 700]]\n",
      "[[0.93074072 0.93304504 0.93092203]\n",
      " [0.9295464  0.93054668 0.93091023]\n",
      " [0.92960403 0.93148097 0.92914026]]\n"
     ]
    },
    {
     "data": {
      "image/png": "[encoded data removed]",
      "text/plain": [
       "<Figure size 432x288 with 1 Axes>"
      ]
     },
     "metadata": {},
     "output_type": "display_data"
    }
   ],
   "source": [
    "loop=0\n",
    "a = depth_range \n",
    "b = tree_range \n",
    "print(a) \n",
    "print(b)\n",
    "A, B = np.meshgrid(a, b) # Create a grid using x and y\n",
    "\n",
    "o = np.zeros([3,3])\n",
    "for i in range(0,3):\n",
    "    for j in range(0,3):\n",
    "        o[i,j]=grid_mean_scores3[loop]\n",
    "        loop=loop+1\n",
    "C=o\n",
    "print(A)\n",
    "print(B)\n",
    "print(C)\n",
    "\n",
    "fig1 = plt.figure()\n",
    "ax = fig1.gca(projection='3d') \n",
    "surf = ax.plot_surface(A, B, C, rstride=1, cstride=1, antialiased=True)\n",
    "\n",
    "ax.set_zlabel('***Depth***')\n",
    "ax.set_xlabel('***No of trees***')\n",
    "ax.set_ylabel('***F1-Score***') \n",
    "plt.show()"
   ]
  },
  {
   "cell_type": "markdown",
   "metadata": {},
   "source": [
    "After plotting the graph we will get to know the best depth and no of trees.We will find the confusion matrix,accuracy and averaged metrics"
   ]
  },
  {
   "cell_type": "code",
   "execution_count": 29,
   "metadata": {},
   "outputs": [
    {
     "name": "stdout",
     "output_type": "stream",
     "text": [
      "THE CONFUSION MATRIX IS:\n",
      " [[482   7   7   0   0   0]\n",
      " [ 32 432   7   0   0   0]\n",
      " [ 20  43 357   0   0   0]\n",
      " [  0   0   0 437  54   0]\n",
      " [  0   0   0  40 492   0]\n",
      " [  0   0   0   0   0 537]]\n",
      "Random Forest Testing Accuracy is: 0.9287410926365796\n",
      "Random Forest F1 score is: 0.9284956900758332\n"
     ]
    }
   ],
   "source": [
    "rfc_model=RandomForestClassifier(n_estimators=500,max_depth=500)\n",
    "\n",
    "rfc_model.fit(Xtrain, ytrain)\n",
    "rfc_predict = rfc_model.predict(Xtest)\n",
    "\n",
    "#Confusion Matrix\n",
    "ConfusionMatrix5 = confusion_matrix(ytest,rfc_predict)\n",
    "\n",
    "print(\"THE CONFUSION MATRIX IS:\\n\",ConfusionMatrix5)\n",
    "\n",
    "rfc_accuracy = metrics.accuracy_score(ytest,rfc_predict)\n",
    "print(\"Random Forest Testing Accuracy is: {}\".format(rfc_accuracy))\n",
    "\n",
    "rfc_accuracy_metrics = metrics.f1_score(ytest,rfc_predict,average='weighted')\n",
    "print(\"Random Forest F1 score is: {}\".format(rfc_accuracy_metrics))\n",
    "\n",
    "\n"
   ]
  },
  {
   "cell_type": "markdown",
   "metadata": {},
   "source": [
    "# Task F"
   ]
  },
  {
   "cell_type": "markdown",
   "metadata": {},
   "source": [
    "We have performed the different types of model like KNN,Elastic Net,Random Forest and Support Vector Machine. We have compared the confusion matrix ,accuracy and F1 score of all the 4 models. After that we come to know that accuracy of the support vector machine is 0.96 and f1 score is also 0.96 and if you observe the confusion matrix diagonal is giving the accurate values in diagonal. If you will compare the results with KNN,elastic net and random tree then you will get to know and make a comparable study among all other models.Random Tree is the best accurate model as its value is 0.96.KNN performed worst as it accuracy is 0.964 whereas for KNN model 0.94 is the accuracy. Yes we can do it better if we will use the J48 model to perform result as it is best classified decision tree and it has the best strategy and conquer method technique and it uses the less memory to run the programs. In this project many models was time consuming.  "
   ]
  }
 ],
 "metadata": {
  "kernelspec": {
   "display_name": "Python 3",
   "language": "python",
   "name": "python3"
  },
  "language_info": {
   "codemirror_mode": {
    "name": "ipython",
    "version": 3
   },
   "file_extension": ".py",
   "mimetype": "text/x-python",
   "name": "python",
   "nbconvert_exporter": "python",
   "pygments_lexer": "ipython3",
   "version": "3.7.3"
  }
 },
 "nbformat": 4,
 "nbformat_minor": 2
}
