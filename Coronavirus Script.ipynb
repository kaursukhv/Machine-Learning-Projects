{
 "cells": [
  {
   "cell_type": "code",
   "execution_count": 2,
   "metadata": {},
   "outputs": [
    {
     "name": "stdout",
     "output_type": "stream",
     "text": [
      "\n",
      "Note: you may need to restart the kernel to use updated packages.\n"
     ]
    },
    {
     "name": "stderr",
     "output_type": "stream",
     "text": [
      "usage: conda-script.py [-h] [-V] command ...\n",
      "conda-script.py: error: the following arguments are required: command\n"
     ]
    }
   ],
   "source": [
    "conda -v\n"
   ]
  },
  {
   "cell_type": "code",
   "execution_count": 3,
   "metadata": {},
   "outputs": [
    {
     "name": "stdout",
     "output_type": "stream",
     "text": [
      "conda 4.8.3\n",
      "\n",
      "Note: you may need to restart the kernel to use updated packages.\n"
     ]
    }
   ],
   "source": [
    "conda --version"
   ]
  },
  {
   "cell_type": "code",
   "execution_count": 4,
   "metadata": {},
   "outputs": [
    {
     "name": "stdout",
     "output_type": "stream",
     "text": [
      "Collecting package metadata (current_repodata.json): ...working... done\n",
      "Solving environment: ...working... failed with initial frozen solve. Retrying with flexible solve.\n",
      "Collecting package metadata (repodata.json): ...working... done\n",
      "Solving environment: ...working... done\n",
      "\n",
      "## Package Plan ##\n",
      "\n",
      "  environment location: C:\\Users\\sukhv\\Anaconda3\n",
      "\n",
      "  added / updated specs:\n",
      "    - pandas=0.25\n",
      "\n",
      "\n",
      "The following packages will be downloaded:\n",
      "\n",
      "    package                    |            build\n",
      "    ---------------------------|-----------------\n",
      "    ca-certificates-2020.1.1   |                0         125 KB\n",
      "    certifi-2019.11.28         |           py37_1         157 KB\n",
      "    conda-4.8.3                |           py37_0         2.8 MB\n",
      "    pandas-0.25.1              |   py37ha925a31_0         7.6 MB\n",
      "    ------------------------------------------------------------\n",
      "                                           Total:        10.7 MB\n",
      "\n",
      "The following packages will be UPDATED:\n",
      "\n",
      "  pandas                              0.24.2-py37ha925a31_0 --> 0.25.1-py37ha925a31_0\n",
      "\n",
      "The following packages will be SUPERSEDED by a higher-priority channel:\n",
      "\n",
      "  ca-certificates                                  anaconda --> pkgs/main\n",
      "  certifi                                          anaconda --> pkgs/main\n",
      "  conda                                            anaconda --> pkgs/main\n",
      "  openssl                anaconda::openssl-1.1.1-he774522_0 --> pkgs/main::openssl-1.1.1c-he774522_1\n",
      "\n",
      "\n",
      "\n",
      "Downloading and Extracting Packages\n",
      "\n",
      "ca-certificates-2020 | 125 KB    |            |   0% \n",
      "ca-certificates-2020 | 125 KB    | ##5        |  26% \n",
      "ca-certificates-2020 | 125 KB    | ########## | 100% \n",
      "\n",
      "conda-4.8.3          | 2.8 MB    |            |   0% \n",
      "conda-4.8.3          | 2.8 MB    | 9          |  10% \n",
      "conda-4.8.3          | 2.8 MB    | ###8       |  38% \n",
      "conda-4.8.3          | 2.8 MB    | #####9     |  60% \n",
      "conda-4.8.3          | 2.8 MB    | #######2   |  72% \n",
      "conda-4.8.3          | 2.8 MB    | ########9  |  89% \n",
      "conda-4.8.3          | 2.8 MB    | ########## | 100% \n",
      "\n",
      "certifi-2019.11.28   | 157 KB    |            |   0% \n",
      "certifi-2019.11.28   | 157 KB    | #########1 |  92% \n",
      "certifi-2019.11.28   | 157 KB    | ########## | 100% \n",
      "\n",
      "pandas-0.25.1        | 7.6 MB    |            |   0% \n",
      "pandas-0.25.1        | 7.6 MB    |            |   0% \n",
      "pandas-0.25.1        | 7.6 MB    | 1          |   1% \n",
      "pandas-0.25.1        | 7.6 MB    | 2          |   3% \n",
      "pandas-0.25.1        | 7.6 MB    | 3          |   4% \n",
      "pandas-0.25.1        | 7.6 MB    | 6          |   6% \n",
      "pandas-0.25.1        | 7.6 MB    | 9          |   9% \n",
      "pandas-0.25.1        | 7.6 MB    | #2         |  13% \n",
      "pandas-0.25.1        | 7.6 MB    | #8         |  18% \n",
      "pandas-0.25.1        | 7.6 MB    | ##4        |  25% \n",
      "pandas-0.25.1        | 7.6 MB    | ###1       |  32% \n",
      "pandas-0.25.1        | 7.6 MB    | ###9       |  39% \n",
      "pandas-0.25.1        | 7.6 MB    | ####6      |  46% \n",
      "pandas-0.25.1        | 7.6 MB    | #####2     |  52% \n",
      "pandas-0.25.1        | 7.6 MB    | #####9     |  60% \n",
      "pandas-0.25.1        | 7.6 MB    | ######6    |  67% \n",
      "pandas-0.25.1        | 7.6 MB    | #######3   |  73% \n",
      "pandas-0.25.1        | 7.6 MB    | #######9   |  79% \n",
      "pandas-0.25.1        | 7.6 MB    | ########8  |  88% \n",
      "pandas-0.25.1        | 7.6 MB    | #########5 |  96% \n",
      "pandas-0.25.1        | 7.6 MB    | ########## | 100% \n",
      "Preparing transaction: ...working... done\n",
      "Verifying transaction: ...working... done\n",
      "Executing transaction: ...working... done\n",
      "\n",
      "Note: you may need to restart the kernel to use updated packages.\n"
     ]
    }
   ],
   "source": [
    "conda install pandas=0.25"
   ]
  },
  {
   "cell_type": "code",
   "execution_count": 1,
   "metadata": {},
   "outputs": [
    {
     "name": "stdout",
     "output_type": "stream",
     "text": [
      "Requirement already satisfied: pytrends in c:\\users\\sukhv\\anaconda3\\lib\\site-packages (4.7.2)\n",
      "Requirement already satisfied: requests in c:\\users\\sukhv\\anaconda3\\lib\\site-packages (from pytrends) (2.22.0)\n",
      "Requirement already satisfied: lxml in c:\\users\\sukhv\\anaconda3\\lib\\site-packages (from pytrends) (4.3.4)\n",
      "Requirement already satisfied: pandas in c:\\users\\sukhv\\anaconda3\\lib\\site-packages (from pytrends) (0.25.1)\n",
      "Requirement already satisfied: chardet<3.1.0,>=3.0.2 in c:\\users\\sukhv\\anaconda3\\lib\\site-packages (from requests->pytrends) (3.0.4)\n",
      "Requirement already satisfied: idna<2.9,>=2.5 in c:\\users\\sukhv\\anaconda3\\lib\\site-packages (from requests->pytrends) (2.8)\n",
      "Requirement already satisfied: urllib3!=1.25.0,!=1.25.1,<1.26,>=1.21.1 in c:\\users\\sukhv\\anaconda3\\lib\\site-packages (from requests->pytrends) (1.24.2)\n",
      "Requirement already satisfied: certifi>=2017.4.17 in c:\\users\\sukhv\\anaconda3\\lib\\site-packages (from requests->pytrends) (2019.11.28)\n",
      "Requirement already satisfied: numpy>=1.13.3 in c:\\users\\sukhv\\appdata\\roaming\\python\\python37\\site-packages (from pandas->pytrends) (1.17.2)\n",
      "Requirement already satisfied: pytz>=2017.2 in c:\\users\\sukhv\\anaconda3\\lib\\site-packages (from pandas->pytrends) (2019.1)\n",
      "Requirement already satisfied: python-dateutil>=2.6.1 in c:\\users\\sukhv\\anaconda3\\lib\\site-packages (from pandas->pytrends) (2.8.0)\n",
      "Requirement already satisfied: six>=1.5 in c:\\users\\sukhv\\appdata\\roaming\\python\\python37\\site-packages (from python-dateutil>=2.6.1->pandas->pytrends) (1.12.0)\n",
      "Note: you may need to restart the kernel to use updated packages.\n"
     ]
    }
   ],
   "source": [
    "pip install pytrends"
   ]
  },
  {
   "cell_type": "code",
   "execution_count": 2,
   "metadata": {},
   "outputs": [],
   "source": [
    "from pytrends.request import TrendReq\n"
   ]
  },
  {
   "cell_type": "code",
   "execution_count": 5,
   "metadata": {},
   "outputs": [],
   "source": [
    "pytrends = TrendReq(hl='en-US', tz=360)\n",
    "pytrends.build_payload(['Coronavirus'], cat=0, timeframe='2020-01-01 2020-04-01',  gprop='', geo='US-NY')"
   ]
  },
  {
   "cell_type": "code",
   "execution_count": 6,
   "metadata": {},
   "outputs": [
    {
     "name": "stdout",
     "output_type": "stream",
     "text": [
      "            Coronavirus  isPartial\n",
      "date                              \n",
      "2020-01-01            0      False\n",
      "2020-01-02            0      False\n",
      "2020-01-03            0      False\n",
      "2020-01-04            0      False\n",
      "2020-01-05            0      False\n"
     ]
    }
   ],
   "source": [
    "df = pytrends.interest_over_time()\n",
    "print(df.head())"
   ]
  },
  {
   "cell_type": "code",
   "execution_count": 7,
   "metadata": {},
   "outputs": [
    {
     "name": "stderr",
     "output_type": "stream",
     "text": [
      "C:\\Users\\sukhv\\Anaconda3\\lib\\site-packages\\pandas\\plotting\\_matplotlib\\converter.py:103: FutureWarning: Using an implicitly registered datetime converter for a matplotlib plotting method. The converter was registered by pandas on import. Future versions of pandas will require you to explicitly register matplotlib converters.\n",
      "\n",
      "To register the converters:\n",
      "\t>>> from pandas.plotting import register_matplotlib_converters\n",
      "\t>>> register_matplotlib_converters()\n",
      "  warnings.warn(msg, FutureWarning)\n"
     ]
    },
    {
     "data": {
      "text/plain": [
       "Text(0.5, 0, 'Date')"
      ]
     },
     "execution_count": 7,
     "metadata": {},
     "output_type": "execute_result"
    }
   ],
   "source": [
    "import matplotlib.pyplot as plt\n",
    "import seaborn as sns\n",
    "import pandas as pd\n",
    "sns.set()\n",
    "df['timestamp'] = pd.to_datetime(df.index)\n",
    "sns.lineplot(df['timestamp'], df['Coronavirus'])\n",
    "plt.title(\"Normalized Searches for Coronavirus in NY\")\n",
    "plt.ylabel(\"Number of Searches\")\n",
    "plt.xlabel(\"Date\")"
   ]
  },
  {
   "cell_type": "code",
   "execution_count": 9,
   "metadata": {},
   "outputs": [
    {
     "name": "stdout",
     "output_type": "stream",
     "text": [
      "                                      0\n",
      "0                           Census 2020\n",
      "1            Florida stay-at-home order\n",
      "2                      Adam Schlesinger\n",
      "3                               6ix9ine\n",
      "4                               Florida\n",
      "5                                Zantac\n",
      "6              Georgia shelter-in-place\n",
      "7                               UFC 249\n",
      "8                         Zoom meetings\n",
      "9   How to make a face mask with fabric\n",
      "10                          Sean Taylor\n",
      "11                            Wimbledon\n",
      "12       April Fools pranks for Parents\n",
      "13                          Greg Abbott\n",
      "14                   Christopher Meloni\n",
      "15                       Walmart stores\n",
      "16                          Larry David\n",
      "17                        Wallace Roney\n",
      "18                                April\n",
      "19                   California schools\n"
     ]
    }
   ],
   "source": [
    "pytrend = TrendReq()\n",
    "trending_searches_df = pytrend.trending_searches(pn='united_states')\n",
    "print(trending_searches_df.head(20))"
   ]
  },
  {
   "cell_type": "code",
   "execution_count": 12,
   "metadata": {},
   "outputs": [
    {
     "name": "stdout",
     "output_type": "stream",
     "text": [
      "                                 0\n",
      "0                       Office 365\n",
      "1               Μαστερ σεφ σποιλερ\n",
      "2   Κωνσταντινοσ λεβαντησ ηθοποιοσ\n",
      "3       ΕΠΙΔΟΜΑ 800 δικαιολογητικα\n",
      "4                       Μπαλαουρασ\n",
      "5                 Assassin's Creed\n",
      "6                      Andrew Jack\n",
      "7                         Απριλιοσ\n",
      "8                     Άντριου Τζακ\n",
      "9                              ΑΠΘ\n",
      "10                      1 απριλιου\n",
      "11                    Τζενη καρεζη\n",
      "12                    Λαικο λαχειο\n",
      "13            Σωτήρης Γεωργούντζος\n",
      "14         Ιερα συνοδοσ ανακοινωση\n",
      "15                            ΕΟΚΑ\n",
      "16                    MasterChef 1\n",
      "17                         Απριλησ\n",
      "18                Γιαννησ κυραστασ\n",
      "19             Ειρήνη Παπαδοπούλου\n"
     ]
    }
   ],
   "source": [
    "trending_searches_df = pytrend.trending_searches(pn='greece')\n",
    "print(trending_searches_df.head(20))\n"
   ]
  },
  {
   "cell_type": "code",
   "execution_count": 13,
   "metadata": {},
   "outputs": [
    {
     "name": "stdout",
     "output_type": "stream",
     "text": [
      "                            0\n",
      "0               WhatsApp down\n",
      "1                 Truman Show\n",
      "2             Casa di carta 4\n",
      "3                         Doc\n",
      "4          Svezia coronavirus\n",
      "5                Michelangelo\n",
      "6           Maurizio Costanzo\n",
      "7          Mozzarella Stories\n",
      "8   Giornata mondiale autismo\n",
      "9                Lucio Presta\n",
      "10     San Francesco di Paola\n",
      "11            Whoopi Goldberg\n",
      "12                 Pappalardo\n",
      "13                Ibrahimovic\n",
      "14                       Inps\n",
      "15            Meteo di domani\n",
      "16              Cassa Forense\n",
      "17                 Inps login\n",
      "18                John Wick 2\n",
      "19    Conte conferenza stampa\n"
     ]
    }
   ],
   "source": [
    "trending_searches_df = pytrend.trending_searches(pn='italy')\n",
    "print(trending_searches_df.head(20))"
   ]
  },
  {
   "cell_type": "code",
   "execution_count": 14,
   "metadata": {},
   "outputs": [
    {
     "name": "stdout",
     "output_type": "stream",
     "text": [
      "0                             Census 2020\n",
      "1              Florida stay-at-home order\n",
      "2                        Adam Schlesinger\n",
      "3                                 6ix9ine\n",
      "4                                 Florida\n",
      "5                                  Zantac\n",
      "6                Georgia shelter-in-place\n",
      "7                                 UFC 249\n",
      "8                           Zoom meetings\n",
      "9     How to make a face mask with fabric\n",
      "10                            Sean Taylor\n",
      "11                              Wimbledon\n",
      "12                            Greg Abbott\n",
      "13                         Walmart stores\n",
      "14                     Christopher Meloni\n",
      "15                         Robert Redford\n",
      "16                         Rob Gronkowski\n",
      "17                            Larry David\n",
      "18                                   Iran\n",
      "19                          Wallace Roney\n",
      "Name: query, dtype: object\n"
     ]
    }
   ],
   "source": [
    "# Get Google Hot Trends data\n",
    "today_searches_df = pytrend.today_searches(pn='US')\n",
    "print(today_searches_df.head(20))"
   ]
  },
  {
   "cell_type": "code",
   "execution_count": 15,
   "metadata": {},
   "outputs": [
    {
     "name": "stdout",
     "output_type": "stream",
     "text": [
      "            coronavirus isPartial\n",
      "date                             \n",
      "2020-01-26           15     False\n",
      "2020-02-02            9     False\n",
      "2020-02-09            7     False\n",
      "2020-02-16            6     False\n",
      "2020-02-23           28     False\n",
      "2020-03-01           36     False\n",
      "2020-03-08           76     False\n",
      "2020-03-15          100     False\n",
      "2020-03-22           85     False\n",
      "2020-03-29           71      True\n"
     ]
    }
   ],
   "source": [
    "# Create payload and capture API tokens. Only needed for interest_over_time(), interest_by_region() &amp; related_queries()\n",
    "pytrend.build_payload(kw_list=['coronavirus'])\n",
    " \n",
    "# Interest Over Time\n",
    "interest_over_time_df = pytrend.interest_over_time()\n",
    "print(interest_over_time_df.tail(10))"
   ]
  },
  {
   "cell_type": "code",
   "execution_count": 16,
   "metadata": {},
   "outputs": [
    {
     "name": "stdout",
     "output_type": "stream",
     "text": [
      "                      coronavirus\n",
      "geoName                          \n",
      "Italy                         100\n",
      "Spain                          80\n",
      "Ireland                        62\n",
      "France                         60\n",
      "United Kingdom                 56\n",
      "Switzerland                    54\n",
      "Qatar                          48\n",
      "United States                  44\n",
      "Canada                         44\n",
      "Panama                         44\n",
      "New Zealand                    42\n",
      "Australia                      42\n",
      "United Arab Emirates           40\n",
      "South Africa                   40\n",
      "Austria                        40\n",
      "Argentina                      38\n",
      "Portugal                       38\n",
      "Germany                        38\n",
      "Romania                        38\n",
      "Colombia                       36\n"
     ]
    }
   ],
   "source": [
    "# Interest by Region\n",
    "interest_by_region_df = pytrend.interest_by_region()\n",
    "print(interest_by_region_df.sort_values(['coronavirus'], ascending=False).head(20))\n"
   ]
  },
  {
   "cell_type": "code",
   "execution_count": 17,
   "metadata": {},
   "outputs": [
    {
     "name": "stdout",
     "output_type": "stream",
     "text": [
      "                   query  value\n",
      "0     coronavirus update    100\n",
      "1                 corona     83\n",
      "2      coronavirus cases     70\n",
      "3       news coronavirus     70\n",
      "4   coronavirus symptoms     70\n",
      "5         uk coronavirus     48\n",
      "6      coronavirus india     43\n",
      "7           corona virus     43\n",
      "8        coronavirus map     37\n",
      "9      china coronavirus     37\n",
      "10    coronavirus italia     35\n",
      "11    coronavirus france     31\n",
      "12       usa coronavirus     29\n",
      "13                 italy     29\n",
      "14     italy coronavirus     28\n",
      "15        coronavirus us     27\n",
      "16  sintomas coronavirus     26\n",
      "17      coronavirus live     25\n",
      "18    coronavirus españa     25\n",
      "19  coronavirus in india     22\n",
      "                         query  value\n",
      "0                     covid 19  80500\n",
      "1       coronavirus death toll  54400\n",
      "2      worldometer coronavirus  49000\n",
      "3                  worldometer  48400\n",
      "4            wuhan coronavirus  43450\n",
      "5            coronavirus stats  38050\n",
      "6         us coronavirus cases  37200\n",
      "7   ultime notizie coronavirus  35250\n",
      "8     coronavirus update india  34450\n",
      "9         coronavirus in italy  34050\n",
      "10       coronavirus en españa  33750\n",
      "11     india coronavirus cases  31900\n",
      "12        coronavirus uk cases  29250\n",
      "13     coronavirus update live  28600\n",
      "14       coronavirus no brasil  28350\n",
      "15    john hopkins coronavirus  28250\n",
      "16                    covid-19  28050\n",
      "17        coronavirus live map  24300\n",
      "18           spain coronavirus  24200\n",
      "19            coronavirus meme  23350\n"
     ]
    }
   ],
   "source": [
    "# Related Queries, returns a dictionary of dataframes\n",
    "related_queries_dict = pytrend.related_queries()\n",
    "print(related_queries_dict['coronavirus']['top'].head(20))\n",
    "print(related_queries_dict['coronavirus']['rising'].head(20))"
   ]
  },
  {
   "cell_type": "code",
   "execution_count": 18,
   "metadata": {},
   "outputs": [
    {
     "data": {
      "text/html": [
       "<div>\n",
       "<style scoped>\n",
       "    .dataframe tbody tr th:only-of-type {\n",
       "        vertical-align: middle;\n",
       "    }\n",
       "\n",
       "    .dataframe tbody tr th {\n",
       "        vertical-align: top;\n",
       "    }\n",
       "\n",
       "    .dataframe thead th {\n",
       "        text-align: right;\n",
       "    }\n",
       "</style>\n",
       "<table border=\"1\" class=\"dataframe\">\n",
       "  <thead>\n",
       "    <tr style=\"text-align: right;\">\n",
       "      <th></th>\n",
       "      <th>value</th>\n",
       "      <th>formattedValue</th>\n",
       "      <th>topic_title</th>\n",
       "      <th>topic_type</th>\n",
       "    </tr>\n",
       "  </thead>\n",
       "  <tbody>\n",
       "    <tr>\n",
       "      <td>0</td>\n",
       "      <td>70600</td>\n",
       "      <td>Breakout</td>\n",
       "      <td>Worldometers</td>\n",
       "      <td>Website</td>\n",
       "    </tr>\n",
       "    <tr>\n",
       "      <td>1</td>\n",
       "      <td>52300</td>\n",
       "      <td>Breakout</td>\n",
       "      <td>Johns Hopkins University</td>\n",
       "      <td>Private university in Baltimore, Maryland</td>\n",
       "    </tr>\n",
       "    <tr>\n",
       "      <td>2</td>\n",
       "      <td>47200</td>\n",
       "      <td>Breakout</td>\n",
       "      <td>Cubit</td>\n",
       "      <td>Topic</td>\n",
       "    </tr>\n",
       "    <tr>\n",
       "      <td>3</td>\n",
       "      <td>46700</td>\n",
       "      <td>Breakout</td>\n",
       "      <td>Covid</td>\n",
       "      <td>Electronics manufacturer in Tempe, Arizona</td>\n",
       "    </tr>\n",
       "    <tr>\n",
       "      <td>4</td>\n",
       "      <td>44900</td>\n",
       "      <td>Breakout</td>\n",
       "      <td>Wuhan</td>\n",
       "      <td>City in China</td>\n",
       "    </tr>\n",
       "    <tr>\n",
       "      <td>5</td>\n",
       "      <td>42350</td>\n",
       "      <td>Breakout</td>\n",
       "      <td>U.S. state</td>\n",
       "      <td>Topic</td>\n",
       "    </tr>\n",
       "    <tr>\n",
       "      <td>6</td>\n",
       "      <td>28350</td>\n",
       "      <td>Breakout</td>\n",
       "      <td>Última Hora</td>\n",
       "      <td>Topic</td>\n",
       "    </tr>\n",
       "    <tr>\n",
       "      <td>7</td>\n",
       "      <td>24700</td>\n",
       "      <td>Breakout</td>\n",
       "      <td>Austria</td>\n",
       "      <td>Country in Europe</td>\n",
       "    </tr>\n",
       "    <tr>\n",
       "      <td>8</td>\n",
       "      <td>22900</td>\n",
       "      <td>Breakout</td>\n",
       "      <td>Romania</td>\n",
       "      <td>Country in the Balkans</td>\n",
       "    </tr>\n",
       "    <tr>\n",
       "      <td>9</td>\n",
       "      <td>21200</td>\n",
       "      <td>Breakout</td>\n",
       "      <td>Decree</td>\n",
       "      <td>Topic</td>\n",
       "    </tr>\n",
       "    <tr>\n",
       "      <td>10</td>\n",
       "      <td>18900</td>\n",
       "      <td>Breakout</td>\n",
       "      <td>Dow Jones Industrial Average</td>\n",
       "      <td>Market index</td>\n",
       "    </tr>\n",
       "    <tr>\n",
       "      <td>11</td>\n",
       "      <td>15900</td>\n",
       "      <td>Breakout</td>\n",
       "      <td>National Health Service</td>\n",
       "      <td>Topic</td>\n",
       "    </tr>\n",
       "    <tr>\n",
       "      <td>12</td>\n",
       "      <td>14200</td>\n",
       "      <td>Breakout</td>\n",
       "      <td>Agenzia Nazionale Stampa Associata Soc. Coop.</td>\n",
       "      <td>Cooperative</td>\n",
       "    </tr>\n",
       "    <tr>\n",
       "      <td>13</td>\n",
       "      <td>14150</td>\n",
       "      <td>Breakout</td>\n",
       "      <td>North Rhine-Westphalia</td>\n",
       "      <td>German state</td>\n",
       "    </tr>\n",
       "    <tr>\n",
       "      <td>14</td>\n",
       "      <td>13250</td>\n",
       "      <td>Breakout</td>\n",
       "      <td>Hand sanitizer</td>\n",
       "      <td>Topic</td>\n",
       "    </tr>\n",
       "    <tr>\n",
       "      <td>15</td>\n",
       "      <td>13200</td>\n",
       "      <td>Breakout</td>\n",
       "      <td>Tom Hanks</td>\n",
       "      <td>American actor</td>\n",
       "    </tr>\n",
       "    <tr>\n",
       "      <td>16</td>\n",
       "      <td>12600</td>\n",
       "      <td>Breakout</td>\n",
       "      <td>Veneto</td>\n",
       "      <td>Italian region</td>\n",
       "    </tr>\n",
       "    <tr>\n",
       "      <td>17</td>\n",
       "      <td>11800</td>\n",
       "      <td>Breakout</td>\n",
       "      <td>Lockdown</td>\n",
       "      <td>Topic</td>\n",
       "    </tr>\n",
       "    <tr>\n",
       "      <td>18</td>\n",
       "      <td>11450</td>\n",
       "      <td>Breakout</td>\n",
       "      <td>Sicily</td>\n",
       "      <td>Italian region</td>\n",
       "    </tr>\n",
       "    <tr>\n",
       "      <td>19</td>\n",
       "      <td>10050</td>\n",
       "      <td>Breakout</td>\n",
       "      <td>Piedmont</td>\n",
       "      <td>Italian region</td>\n",
       "    </tr>\n",
       "  </tbody>\n",
       "</table>\n",
       "</div>"
      ],
      "text/plain": [
       "    value formattedValue                                    topic_title  \\\n",
       "0   70600       Breakout                                   Worldometers   \n",
       "1   52300       Breakout                       Johns Hopkins University   \n",
       "2   47200       Breakout                                          Cubit   \n",
       "3   46700       Breakout                                          Covid   \n",
       "4   44900       Breakout                                          Wuhan   \n",
       "5   42350       Breakout                                     U.S. state   \n",
       "6   28350       Breakout                                    Última Hora   \n",
       "7   24700       Breakout                                        Austria   \n",
       "8   22900       Breakout                                        Romania   \n",
       "9   21200       Breakout                                         Decree   \n",
       "10  18900       Breakout                   Dow Jones Industrial Average   \n",
       "11  15900       Breakout                        National Health Service   \n",
       "12  14200       Breakout  Agenzia Nazionale Stampa Associata Soc. Coop.   \n",
       "13  14150       Breakout                         North Rhine-Westphalia   \n",
       "14  13250       Breakout                                 Hand sanitizer   \n",
       "15  13200       Breakout                                      Tom Hanks   \n",
       "16  12600       Breakout                                         Veneto   \n",
       "17  11800       Breakout                                       Lockdown   \n",
       "18  11450       Breakout                                         Sicily   \n",
       "19  10050       Breakout                                       Piedmont   \n",
       "\n",
       "                                    topic_type  \n",
       "0                                      Website  \n",
       "1    Private university in Baltimore, Maryland  \n",
       "2                                        Topic  \n",
       "3   Electronics manufacturer in Tempe, Arizona  \n",
       "4                                City in China  \n",
       "5                                        Topic  \n",
       "6                                        Topic  \n",
       "7                            Country in Europe  \n",
       "8                       Country in the Balkans  \n",
       "9                                        Topic  \n",
       "10                                Market index  \n",
       "11                                       Topic  \n",
       "12                                 Cooperative  \n",
       "13                                German state  \n",
       "14                                       Topic  \n",
       "15                              American actor  \n",
       "16                              Italian region  \n",
       "17                                       Topic  \n",
       "18                              Italian region  \n",
       "19                              Italian region  "
      ]
     },
     "execution_count": 18,
     "metadata": {},
     "output_type": "execute_result"
    }
   ],
   "source": [
    "related_topic = pytrend.related_topics()\n",
    "related_topic['coronavirus']['rising'].drop(['link','topic_mid'], axis=1).head(20)"
   ]
  },
  {
   "cell_type": "code",
   "execution_count": 21,
   "metadata": {},
   "outputs": [],
   "source": [
    "def get_searches(key_word, state):\n",
    "    pytrends = TrendReq(hl='en-US', tz=360)\n",
    "    pytrends.build_payload([key_word], cat=0, timeframe='2020-01-01 2020-04-01',  gprop='',geo='US-{}'.format(state))    \n",
    "    df = pytrends.interest_over_time()\n",
    "            \n",
    "    \n",
    "    print(df.head())\n",
    "    \n",
    "    sns.set()\n",
    "    df['timestamp'] = pd.to_datetime(df.index)\n",
    "    sns.lineplot(df['timestamp'], df[key_word])\n",
    "    \n",
    "    plt.title(\"Normalized Searches for {} in {}\".format(key_word, state))\n",
    "    plt.ylabel(\"Number of Searches\")\n",
    "    plt.xlabel(\"Date\")"
   ]
  },
  {
   "cell_type": "code",
   "execution_count": 22,
   "metadata": {},
   "outputs": [
    {
     "name": "stdout",
     "output_type": "stream",
     "text": [
      "            Coronavirus  isPartial\n",
      "date                              \n",
      "2020-01-01            0      False\n",
      "2020-01-02            0      False\n",
      "2020-01-03            0      False\n",
      "2020-01-04            0      False\n",
      "2020-01-05            0      False\n",
      "            Coronavirus  isPartial\n",
      "date                              \n",
      "2020-01-01            0      False\n",
      "2020-01-02            0      False\n",
      "2020-01-03            0      False\n",
      "2020-01-04            0      False\n",
      "2020-01-05            0      False\n",
      "            Coronavirus  isPartial\n",
      "date                              \n",
      "2020-01-01            0      False\n",
      "2020-01-02            0      False\n",
      "2020-01-03            0      False\n",
      "2020-01-04            0      False\n",
      "2020-01-05            0      False\n"
     ]
    },
    {
     "data": {
      "image/png": "[encoded data removed]",
      "text/plain": [
       "<Figure size 432x288 with 1 Axes>"
      ]
     },
     "metadata": {},
     "output_type": "display_data"
    }
   ],
   "source": [
    "get_searches('Coronavirus', 'NY')\n",
    "get_searches('Coronavirus', 'MA')\n",
    "get_searches('Coronavirus', 'CA')"
   ]
  },
  {
   "cell_type": "code",
   "execution_count": null,
   "metadata": {},
   "outputs": [],
   "source": []
  }
 ],
 "metadata": {
  "kernelspec": {
   "display_name": "Python 3",
   "language": "python",
   "name": "python3"
  },
  "language_info": {
   "codemirror_mode": {
    "name": "ipython",
    "version": 3
   },
   "file_extension": ".py",
   "mimetype": "text/x-python",
   "name": "python",
   "nbconvert_exporter": "python",
   "pygments_lexer": "ipython3",
   "version": "3.7.3"
  }
 },
 "nbformat": 4,
 "nbformat_minor": 2
}
